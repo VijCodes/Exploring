{
 "cells": [
  {
   "cell_type": "code",
   "execution_count": 1,
   "id": "1ab2899a",
   "metadata": {
    "scrolled": true
   },
   "outputs": [],
   "source": [
    "import pandas as pd\n",
    "import os\n",
    "import numpy as np\n",
    "import matplotlib.pyplot as plt\n",
    "import sklearn.model_selection \n",
    "from sklearn.compose import make_column_transformer\n",
    "from sklearn.linear_model import LinearRegression\n",
    "from sklearn.pipeline import make_pipeline\n",
    "from sklearn.model_selection import cross_val_score\n",
    "from sklearn.model_selection import train_test_split\n",
    "from sklearn.impute import KNNImputer\n",
    "# evaluate sklearn histogram gradient boosting algorithm for classification\n",
    "from numpy import mean\n",
    "from numpy import std\n",
    "from sklearn.datasets import make_classification\n",
    "from sklearn.model_selection import cross_val_score\n",
    "from sklearn.model_selection import RepeatedStratifiedKFold\n",
    "from sklearn.experimental import enable_hist_gradient_boosting\n",
    "from sklearn.ensemble import HistGradientBoostingClassifier\n",
    "from sklearn.impute import SimpleImputer\n",
    "import random as rd\n",
    "import timeit\n",
    "import math\n",
    "import sqlite3\n",
    "from sqlalchemy import create_engine\n",
    "from tsfresh import extract_features\n",
    "from tsfresh import select_features"
   ]
  },
  {
   "cell_type": "code",
   "execution_count": 5,
   "id": "e9eebeab",
   "metadata": {},
   "outputs": [],
   "source": [
    "from tsfresh import feature_extraction"
   ]
  },
  {
   "cell_type": "raw",
   "id": "c10c8ae5",
   "metadata": {},
   "source": [
    "Data is made available in the local database \"csv_database\". SQLAlchemy and SQLite were used to create and load data into the database."
   ]
  },
  {
   "cell_type": "code",
   "execution_count": 2,
   "id": "3a91406b",
   "metadata": {},
   "outputs": [],
   "source": [
    "os.chdir(r'C:\\Users\\formy\\Downloads\\amex-default-prediction')\n",
    "csv_database = sqlite3.connect('csv_database.db') \n",
    "pd.read_sql_query('SELECT customer_ID FROM data_use limit 1 ',csv_database)\n",
    "df = pd.read_sql_query('SELECT * FROM data_use where customer_ID = \"00000469ba478561f23a92a868bd366de6f6527a684c9a2e78fb826dcac3b9b7\" ',csv_database)"
   ]
  },
  {
   "cell_type": "code",
   "execution_count": 3,
   "id": "43c8bff8",
   "metadata": {},
   "outputs": [],
   "source": [
    "# loading customer id's\n",
    "import pickle\n",
    "with open(\"train\", \"rb\") as fp:   #UnPickling train\n",
    "     train_customers = pickle.load(fp)\n",
    "        \n",
    "with open(\"test\", \"rb\") as fp:   #UnPickling test\n",
    "     test_customers = pickle.load(fp)"
   ]
  },
  {
   "cell_type": "code",
   "execution_count": 58,
   "id": "e28623ef",
   "metadata": {},
   "outputs": [],
   "source": [
    "customer_slice = train_customers[0:10000]\n",
    "slice_query = 'SELECT * FROM raw_train_data WHERE customer_ID in ('+\"'\" + \"','\".join(customer_slice)+\"')\"\n",
    "df = pd.read_sql_query(slice_query,csv_database)\n",
    "df_dum = pd.get_dummies(df,columns = ['B_30', 'B_38', 'D_114', 'D_116', 'D_117', 'D_120', 'D_126', 'D_63', 'D_64', 'D_66', 'D_68'])\n",
    "imputer = SimpleImputer(missing_values=np.nan, strategy='mean') #, weights='uniform', metric='nan_euclidean' \n",
    "df_d = df_dum.dropna(axis='columns', thresh=0.4*len(df_dum.index))\n",
    "df_customers = df_d[['customer_ID','S_2']]\n",
    "df_d = df_d.drop(['customer_ID','S_2'], axis=1)\n",
    "imputer.fit(df_d)\n",
    "df_imp = pd.DataFrame(imputer.transform(df_d),columns = df_d.columns)\n",
    "df_imp['index1'] = df_imp.index\n",
    "df_customers['index1'] = df_customers.index\n",
    "df_final = df_imp.merge(df_customers)\n",
    "df_final = df_final.drop(['index','index1'], axis=1)"
   ]
  },
  {
   "cell_type": "code",
   "execution_count": 61,
   "id": "74653559",
   "metadata": {},
   "outputs": [],
   "source": [
    "timeseries_cols = list(df_final.columns)\n",
    "timeseries_cols = [i for i in timeseries_cols if i not in ['customer_ID','S_2']]"
   ]
  },
  {
   "cell_type": "code",
   "execution_count": 63,
   "id": "219f5c67",
   "metadata": {},
   "outputs": [],
   "source": [
    "#column_id=\"id\", column_sort=\"time\", column_kind=None, column_value=None\n",
    "col = [timeseries_cols[0],'customer_ID','S_2']\n",
    "df_piece = df_final[col]\n",
    "df_labels = pd.read_csv('train_labels.csv')\n",
    "df_full = df_final.merge(df_labels)\n",
    "X = df_full.iloc[:,df_full.columns != 'target']\n",
    "y = df_full[['customer_ID','target']]"
   ]
  },
  {
   "cell_type": "code",
   "execution_count": null,
   "id": "2dc4fe1e",
   "metadata": {},
   "outputs": [
    {
     "name": "stderr",
     "output_type": "stream",
     "text": [
      "\r",
      "Feature Extraction:   0%|                                                                       | 0/30 [00:00<?, ?it/s]"
     ]
    }
   ],
   "source": [
    "extracted_features = extract_features(X, column_id=\"customer_ID\", column_sort=\"S_2\")"
   ]
  },
  {
   "cell_type": "code",
   "execution_count": null,
   "id": "09055627",
   "metadata": {},
   "outputs": [],
   "source": [
    "y = y.groupby(['customer_ID']).mean()"
   ]
  },
  {
   "cell_type": "code",
   "execution_count": null,
   "id": "109a323e",
   "metadata": {},
   "outputs": [],
   "source": [
    "from tsfresh.utilities.dataframe_functions import impute\n",
    "impute(extracted_features)\n",
    "features_filtered = select_features(extracted_features, y.squeeze())"
   ]
  },
  {
   "cell_type": "code",
   "execution_count": null,
   "id": "454d5780",
   "metadata": {},
   "outputs": [],
   "source": [
    "features_filtered"
   ]
  },
  {
   "cell_type": "code",
   "execution_count": 55,
   "id": "cb34fd80",
   "metadata": {},
   "outputs": [
    {
     "data": {
      "text/plain": [
       "pandas.core.series.Series"
      ]
     },
     "execution_count": 55,
     "metadata": {},
     "output_type": "execute_result"
    }
   ],
   "source": [
    "type(y.squeeze())"
   ]
  },
  {
   "cell_type": "code",
   "execution_count": 57,
   "id": "968cb24f",
   "metadata": {},
   "outputs": [
    {
     "data": {
      "text/html": [
       "<div>\n",
       "<style scoped>\n",
       "    .dataframe tbody tr th:only-of-type {\n",
       "        vertical-align: middle;\n",
       "    }\n",
       "\n",
       "    .dataframe tbody tr th {\n",
       "        vertical-align: top;\n",
       "    }\n",
       "\n",
       "    .dataframe thead th {\n",
       "        text-align: right;\n",
       "    }\n",
       "</style>\n",
       "<table border=\"1\" class=\"dataframe\">\n",
       "  <thead>\n",
       "    <tr style=\"text-align: right;\">\n",
       "      <th></th>\n",
       "    </tr>\n",
       "  </thead>\n",
       "  <tbody>\n",
       "    <tr>\n",
       "      <th>0000099d6bd597052cdcda90ffabf56573fe9d7c79be5fbac11a8ed792feb62a</th>\n",
       "    </tr>\n",
       "    <tr>\n",
       "      <th>00000fd6641609c6ece5454664794f0340ad84dddce9a267a310b5ae68e9d8e5</th>\n",
       "    </tr>\n",
       "    <tr>\n",
       "      <th>00001b22f846c82c51f6e3958ccd81970162bae8b007e80662ef27519fcc18c1</th>\n",
       "    </tr>\n",
       "    <tr>\n",
       "      <th>000041bdba6ecadd89a52d11886e8eaaec9325906c9723355abb5ca523658edc</th>\n",
       "    </tr>\n",
       "    <tr>\n",
       "      <th>00007889e4fcd2614b6cbe7f8f3d2e5c728eca32d9eb8ad51ca8b8c4a24cefed</th>\n",
       "    </tr>\n",
       "    <tr>\n",
       "      <th>000084e5023181993c2e1b665ac88dbb1ce9ef621ec5370150fc2f8bdca6202c</th>\n",
       "    </tr>\n",
       "    <tr>\n",
       "      <th>000098081fde4fd64bc4d503a5d6f86a0aedc425c96f5235f98b0f47c9d7d8d4</th>\n",
       "    </tr>\n",
       "    <tr>\n",
       "      <th>0000d17a1447b25a01e42e1ac56b091bb7cbb06317be4cb59b50fec59e0b6381</th>\n",
       "    </tr>\n",
       "    <tr>\n",
       "      <th>0000f99513770170a1aba690daeeb8a96da4a39f11fc27da5c30a79db61c1e85</th>\n",
       "    </tr>\n",
       "    <tr>\n",
       "      <th>00013181a0c5fc8f1ea38cd2b90fe8ad2fa8cad9d9f13e4063bdf6b0f7d51eb6</th>\n",
       "    </tr>\n",
       "  </tbody>\n",
       "</table>\n",
       "</div>"
      ],
      "text/plain": [
       "Empty DataFrame\n",
       "Columns: []\n",
       "Index: [0000099d6bd597052cdcda90ffabf56573fe9d7c79be5fbac11a8ed792feb62a, 00000fd6641609c6ece5454664794f0340ad84dddce9a267a310b5ae68e9d8e5, 00001b22f846c82c51f6e3958ccd81970162bae8b007e80662ef27519fcc18c1, 000041bdba6ecadd89a52d11886e8eaaec9325906c9723355abb5ca523658edc, 00007889e4fcd2614b6cbe7f8f3d2e5c728eca32d9eb8ad51ca8b8c4a24cefed, 000084e5023181993c2e1b665ac88dbb1ce9ef621ec5370150fc2f8bdca6202c, 000098081fde4fd64bc4d503a5d6f86a0aedc425c96f5235f98b0f47c9d7d8d4, 0000d17a1447b25a01e42e1ac56b091bb7cbb06317be4cb59b50fec59e0b6381, 0000f99513770170a1aba690daeeb8a96da4a39f11fc27da5c30a79db61c1e85, 00013181a0c5fc8f1ea38cd2b90fe8ad2fa8cad9d9f13e4063bdf6b0f7d51eb6]"
      ]
     },
     "execution_count": 57,
     "metadata": {},
     "output_type": "execute_result"
    }
   ],
   "source": [
    "features_filtered"
   ]
  },
  {
   "cell_type": "code",
   "execution_count": null,
   "id": "fbf91f9b",
   "metadata": {},
   "outputs": [],
   "source": []
  }
 ],
 "metadata": {
  "kernelspec": {
   "display_name": "Python 3 (ipykernel)",
   "language": "python",
   "name": "python3"
  },
  "language_info": {
   "codemirror_mode": {
    "name": "ipython",
    "version": 3
   },
   "file_extension": ".py",
   "mimetype": "text/x-python",
   "name": "python",
   "nbconvert_exporter": "python",
   "pygments_lexer": "ipython3",
   "version": "3.9.7"
  }
 },
 "nbformat": 4,
 "nbformat_minor": 5
}
