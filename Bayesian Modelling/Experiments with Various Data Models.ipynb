{
 "cells": [
  {
   "cell_type": "markdown",
   "id": "b6f455b1",
   "metadata": {},
   "source": [
    "Will normalizing the data really help ?\n",
    "\n",
    "What if the data is hugr ? can't we just approximate almost any distribution with Normal Distribution?"
   ]
  },
  {
   "cell_type": "code",
   "execution_count": 14,
   "id": "7a95e9e2",
   "metadata": {},
   "outputs": [],
   "source": [
    "import pandas as pd\n",
    "import numpy as np\n",
    "import matplotlib.pyplot as plt\n",
    "import os\n",
    "import random as rd\n",
    "import math "
   ]
  },
  {
   "cell_type": "code",
   "execution_count": 15,
   "id": "133ae95f",
   "metadata": {},
   "outputs": [],
   "source": [
    "Dataset = pd.DataFrame(columns = ['Normal','square_Normal','exponential','log_normal'])"
   ]
  },
  {
   "cell_type": "code",
   "execution_count": 19,
   "id": "faa0d0fa",
   "metadata": {},
   "outputs": [],
   "source": [
    "def AddRows(Dataset,num = 1000):\n",
    "    for i in range(num):\n",
    "        Dataset.loc[-1] = [np.random.normal(5, 10), (np.random.normal(5, 10))**2, math.exp(np.random.normal(5, 10)),math.log(np.random.normal(5, 10))]  \n",
    "        Dataset.index = Dataset.index + 1 \n",
    "        Dataset = Dataset.sort_index()  \n",
    "    return Dataset"
   ]
  },
  {
   "cell_type": "code",
   "execution_count": 22,
   "id": "6a03b6b4",
   "metadata": {},
   "outputs": [],
   "source": [
    "Dataset = AddRows(Dataset,num = 1000)"
   ]
  },
  {
   "cell_type": "code",
   "execution_count": 26,
   "id": "c37877b5",
   "metadata": {},
   "outputs": [],
   "source": [
    "Dataset['y'] = Dataset['Normal']+Dataset['square_Normal']+Dataset['exponential']+Dataset['log_normal']"
   ]
  },
  {
   "cell_type": "code",
   "execution_count": 29,
   "id": "616dd6a6",
   "metadata": {},
   "outputs": [],
   "source": [
    "import statsmodels.formula.api as smf\n",
    "# Initialise and fit linear regression model using `statsmodels`\n",
    "model = smf.ols('y ~Normal+square_Normal+exponential+log_normal', data=Dataset)\n",
    "model = model.fit()"
   ]
  },
  {
   "cell_type": "code",
   "execution_count": 31,
   "id": "28ba6ace",
   "metadata": {},
   "outputs": [],
   "source": [
    "sales_pred = model.predict()"
   ]
  },
  {
   "cell_type": "code",
   "execution_count": 33,
   "id": "63ff9925",
   "metadata": {},
   "outputs": [
    {
     "data": {
      "text/plain": [
       "5.105676995443798"
      ]
     },
     "execution_count": 33,
     "metadata": {},
     "output_type": "execute_result"
    }
   ],
   "source": [
    "sum([i**2 for i in Dataset['y']-sales_pred])"
   ]
  },
  {
   "cell_type": "markdown",
   "id": "e5e773e1",
   "metadata": {},
   "source": [
    "Try 2:\n",
    "\n",
    "Applying normalization tactics to see if it improves performance"
   ]
  },
  {
   "cell_type": "code",
   "execution_count": 38,
   "id": "c43bc06a",
   "metadata": {},
   "outputs": [],
   "source": [
    "#Dataset['square_Normal'] = Dataset['square_Normal'].apply(math.sqrt)\n",
    "#Dataset['exponential'] = Dataset['exponential'].apply(math.log)\n",
    "Dataset['log_normal'] = Dataset['log_normal'].apply(math.exp)"
   ]
  },
  {
   "cell_type": "code",
   "execution_count": 39,
   "id": "940edc79",
   "metadata": {},
   "outputs": [
    {
     "data": {
      "text/plain": [
       "4.236043746369395e+30"
      ]
     },
     "execution_count": 39,
     "metadata": {},
     "output_type": "execute_result"
    }
   ],
   "source": [
    "import statsmodels.formula.api as smf\n",
    "\n",
    "# Initialise and fit linear regression model using `statsmodels`\n",
    "model = smf.ols('y ~Normal+square_Normal+exponential+log_normal', data=Dataset)\n",
    "model = model.fit()\n",
    "sales_pred = model.predict()\n",
    "sum([i**2 for i in Dataset['y']-sales_pred])"
   ]
  },
  {
   "cell_type": "markdown",
   "id": "b5a6ccf7",
   "metadata": {},
   "source": [
    "#### Looks like normalizing distributions is not a good idea if the signal is a linear function of the non-normal variable\n",
    "\n",
    "For example we are predicting expenses of our customers. We cannot normalize thier 'incomes' variable and expect a better accuracy"
   ]
  },
  {
   "cell_type": "code",
   "execution_count": null,
   "id": "bf8ef8f6",
   "metadata": {},
   "outputs": [],
   "source": []
  }
 ],
 "metadata": {
  "kernelspec": {
   "display_name": "Python 3 (ipykernel)",
   "language": "python",
   "name": "python3"
  },
  "language_info": {
   "codemirror_mode": {
    "name": "ipython",
    "version": 3
   },
   "file_extension": ".py",
   "mimetype": "text/x-python",
   "name": "python",
   "nbconvert_exporter": "python",
   "pygments_lexer": "ipython3",
   "version": "3.9.16"
  }
 },
 "nbformat": 4,
 "nbformat_minor": 5
}
